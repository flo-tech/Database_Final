{
  "nbformat": 4,
  "nbformat_minor": 0,
  "metadata": {
    "colab": {
      "provenance": []
    },
    "kernelspec": {
      "name": "python3",
      "display_name": "Python 3"
    },
    "language_info": {
      "name": "python"
    }
  },
  "cells": [
    {
      "cell_type": "code",
      "execution_count": 1,
      "metadata": {
        "id": "GkyprJ76jIor"
      },
      "outputs": [],
      "source": [
        "from sqlalchemy import create_engine\n",
        "import sqlparse\n",
        "my_conn = create_engine(\"sqlite:///my_db.db\")\n",
        "conn = my_conn.connect()\n",
        "\n",
        "with open(\"create.sql\") as file:\n",
        "    query = file.read()\n",
        "    sql_queries = sqlparse.split(\n",
        "        sqlparse.format(query, strip_comments=True)\n",
        "    )\n",
        "    for string in sql_queries:\n",
        "        conn.execute(string)"
      ]
    },
    {
      "cell_type": "code",
      "source": [
        "with open(\"insert.sql\") as file:\n",
        "    query = file.read()\n",
        "    sql_queries = sqlparse.split(\n",
        "        sqlparse.format(query, strip_comments=True)\n",
        "    )\n",
        "    for string in sql_queries:\n",
        "        conn.execute(string)"
      ],
      "metadata": {
        "id": "1lXMY5Txj1gz"
      },
      "execution_count": 2,
      "outputs": []
    },
    {
      "cell_type": "code",
      "source": [
        "r_set=my_conn.execute('''select name from sqlite_master where type = 'table' ''')\n",
        "for row in r_set:\n",
        "  print(row)"
      ],
      "metadata": {
        "colab": {
          "base_uri": "https://localhost:8080/"
        },
        "id": "fwqCYdvFj6cq",
        "outputId": "74ac5839-8b81-4c31-a566-013a5b51dd35"
      },
      "execution_count": 3,
      "outputs": [
        {
          "output_type": "stream",
          "name": "stdout",
          "text": [
            "('CUSTOMER',)\n",
            "('BRANCH',)\n",
            "('LOAN',)\n",
            "('BANK',)\n",
            "('DEPARTMENT',)\n",
            "('TRANSACTION',)\n",
            "('BUSINESS ACCOUNT',)\n",
            "('PRIVATE ACCOUNT',)\n"
          ]
        }
      ]
    },
    {
      "cell_type": "code",
      "source": [
        "r_set=my_conn.execute('''SELECT * FROM [CUSTOMER]''');\n",
        "for row in r_set:\n",
        "  print(row)"
      ],
      "metadata": {
        "colab": {
          "base_uri": "https://localhost:8080/"
        },
        "id": "emoCm7TCj-H9",
        "outputId": "bbc7e3c8-005f-43d8-86aa-28d4d1cc545c"
      },
      "execution_count": 4,
      "outputs": [
        {
          "output_type": "stream",
          "name": "stdout",
          "text": [
            "(1, 'kim Soyeon', 'South Korean', 1, '01043567755', 'kim.soyeon@gmail.com', 'Soyeon', 'password1', 'Inha Incheon', 0)\n",
            "(2, 'Lee Jimin', 'South Korean', 1, '01042244115', 'lee.jmin@gmail.com', 'jmin', 'password2', 'Seoul', 0)\n",
            "(3, 'Yeon Ki-yeon', 'South Korean', 1, '02056390045', 'yeon.yeon@gmail.com', 'kiyeon', 'password3', 'Seoul', 0)\n"
          ]
        }
      ]
    },
    {
      "cell_type": "code",
      "source": [
        "r_set=my_conn.execute('''SELECT * FROM [BRANCH]''');\n",
        "for row in r_set:\n",
        "  print(row)"
      ],
      "metadata": {
        "colab": {
          "base_uri": "https://localhost:8080/"
        },
        "id": "AwM8xxgHkG4g",
        "outputId": "d1d51f5a-6df0-4771-8165-401ff3495bdf"
      },
      "execution_count": 5,
      "outputs": [
        {
          "output_type": "stream",
          "name": "stdout",
          "text": [
            "(1, 'seoul branch', 'Seoul', 1, 3)\n"
          ]
        }
      ]
    },
    {
      "cell_type": "code",
      "source": [
        "r_set=my_conn.execute('''SELECT * FROM [LOAN]''');\n",
        "for row in r_set:\n",
        "  print(row)"
      ],
      "metadata": {
        "colab": {
          "base_uri": "https://localhost:8080/"
        },
        "id": "A47oQ7_qkLyE",
        "outputId": "e55f1c91-8698-4c45-d580-38acaa514a1d"
      },
      "execution_count": 6,
      "outputs": [
        {
          "output_type": "stream",
          "name": "stdout",
          "text": [
            "(1, 1000000, 1000, 2000000, 20220718, 20230510)\n"
          ]
        }
      ]
    },
    {
      "cell_type": "code",
      "source": [
        "r_set=my_conn.execute('''SELECT * FROM [DEPARTMENT]''');\n",
        "for row in r_set:\n",
        "  print(row)"
      ],
      "metadata": {
        "colab": {
          "base_uri": "https://localhost:8080/"
        },
        "id": "V8oh0Ua-kTHs",
        "outputId": "be571a87-97de-4be2-8099-b3e713fe7b4c"
      },
      "execution_count": 18,
      "outputs": [
        {
          "output_type": "stream",
          "name": "stdout",
          "text": [
            "(1, 'transactions', 1)\n"
          ]
        }
      ]
    },
    {
      "cell_type": "code",
      "source": [
        "r_set=my_conn.execute('''SELECT * FROM [BANK]''');\n",
        "for row in r_set:\n",
        "  print(row)"
      ],
      "metadata": {
        "colab": {
          "base_uri": "https://localhost:8080/"
        },
        "id": "p55RITTYkPcY",
        "outputId": "8077d846-9881-47d4-86d7-02788a3f6e4f"
      },
      "execution_count": 19,
      "outputs": [
        {
          "output_type": "stream",
          "name": "stdout",
          "text": [
            "(1, 'bank 1', 'NATIO', 1)\n"
          ]
        }
      ]
    },
    {
      "cell_type": "code",
      "source": [
        "r_set=my_conn.execute('''SELECT * FROM [TRANSACTION]''');\n",
        "for row in r_set:\n",
        "  print(row)"
      ],
      "metadata": {
        "colab": {
          "base_uri": "https://localhost:8080/"
        },
        "id": "XMpPHTwEkTKq",
        "outputId": "0572f7f7-6b76-44dd-9d42-bb1eff64ac0f"
      },
      "execution_count": 21,
      "outputs": [
        {
          "output_type": "stream",
          "name": "stdout",
          "text": [
            "(1, 100000, 20221225, 1)\n"
          ]
        }
      ]
    },
    {
      "cell_type": "code",
      "source": [
        "r_set=my_conn.execute('''SELECT * FROM [BUSINESS ACCOUNT]''');\n",
        "for row in r_set:\n",
        "  print(row)"
      ],
      "metadata": {
        "colab": {
          "base_uri": "https://localhost:8080/"
        },
        "id": "rGG1qqkjvI03",
        "outputId": "d2c52a5b-095f-482d-8bd7-33f1ec431d70"
      },
      "execution_count": 22,
      "outputs": [
        {
          "output_type": "stream",
          "name": "stdout",
          "text": [
            "(1, 234542122, 200000, 'company', 1, 1, 1, 2)\n"
          ]
        }
      ]
    },
    {
      "cell_type": "code",
      "source": [
        "r_set=my_conn.execute('''SELECT * FROM [PRIVATE ACCOUNT]''');\n",
        "for row in r_set:\n",
        "  print(row)"
      ],
      "metadata": {
        "colab": {
          "base_uri": "https://localhost:8080/"
        },
        "id": "HA_x5VnjvNNj",
        "outputId": "7dbd9871-40b5-4ad1-9ad1-4264a04746a7"
      },
      "execution_count": 23,
      "outputs": [
        {
          "output_type": "stream",
          "name": "stdout",
          "text": [
            "(1, 68435154, 120000, 1, 1, 3)\n"
          ]
        }
      ]
    }
  ]
}